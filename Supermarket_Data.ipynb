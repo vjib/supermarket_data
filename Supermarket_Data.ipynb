{
 "cells": [
  {
   "cell_type": "code",
   "execution_count": 1,
   "metadata": {},
   "outputs": [],
   "source": [
    "import pandas as pd\n",
    "import datetime\n",
    "import numpy as np\n",
    "import math\n",
    "import matplotlib.pyplot as plt\n",
    "import matplotlib.ticker as mtick\n",
    "from numpy.polynomial.polynomial import polyfit\n",
    "import random as rd\n",
    "import time"
   ]
  },
  {
   "cell_type": "code",
   "execution_count": 2,
   "metadata": {},
   "outputs": [],
   "source": [
    "file_url=\"supermarket_data.csv\"\n",
    "\n",
    "#Load data from CSV\n",
    "supermarket_file=pd.read_csv(file_url)"
   ]
  },
  {
   "cell_type": "code",
   "execution_count": 3,
   "metadata": {},
   "outputs": [
    {
     "data": {
      "text/html": [
       "<div>\n",
       "<style scoped>\n",
       "    .dataframe tbody tr th:only-of-type {\n",
       "        vertical-align: middle;\n",
       "    }\n",
       "\n",
       "    .dataframe tbody tr th {\n",
       "        vertical-align: top;\n",
       "    }\n",
       "\n",
       "    .dataframe thead th {\n",
       "        text-align: right;\n",
       "    }\n",
       "</style>\n",
       "<table border=\"1\" class=\"dataframe\">\n",
       "  <thead>\n",
       "    <tr style=\"text-align: right;\">\n",
       "      <th></th>\n",
       "      <th>SHOP_DATE</th>\n",
       "      <th>SHOP_HOUR</th>\n",
       "      <th>BASKET_ID</th>\n",
       "      <th>CUST_CODE</th>\n",
       "      <th>STORE_CODE</th>\n",
       "      <th>PROD_CODE</th>\n",
       "      <th>QUANTITY</th>\n",
       "      <th>SPEND</th>\n",
       "    </tr>\n",
       "  </thead>\n",
       "  <tbody>\n",
       "    <tr>\n",
       "      <th>0</th>\n",
       "      <td>20071006</td>\n",
       "      <td>21</td>\n",
       "      <td>994107800268406</td>\n",
       "      <td>CUST0000153531</td>\n",
       "      <td>STORE00001</td>\n",
       "      <td>PRD0901391</td>\n",
       "      <td>1</td>\n",
       "      <td>0.37</td>\n",
       "    </tr>\n",
       "    <tr>\n",
       "      <th>1</th>\n",
       "      <td>20070201</td>\n",
       "      <td>15</td>\n",
       "      <td>994104300305853</td>\n",
       "      <td>CUST0000219191</td>\n",
       "      <td>STORE00002</td>\n",
       "      <td>PRD0901915</td>\n",
       "      <td>1</td>\n",
       "      <td>5.08</td>\n",
       "    </tr>\n",
       "    <tr>\n",
       "      <th>2</th>\n",
       "      <td>20071103</td>\n",
       "      <td>13</td>\n",
       "      <td>994108200514137</td>\n",
       "      <td>CUST0000526979</td>\n",
       "      <td>STORE00003</td>\n",
       "      <td>PRD0903379</td>\n",
       "      <td>1</td>\n",
       "      <td>2.36</td>\n",
       "    </tr>\n",
       "    <tr>\n",
       "      <th>3</th>\n",
       "      <td>20070206</td>\n",
       "      <td>18</td>\n",
       "      <td>994104400743650</td>\n",
       "      <td>CUST0000913709</td>\n",
       "      <td>STORE00004</td>\n",
       "      <td>PRD0903305</td>\n",
       "      <td>1</td>\n",
       "      <td>0.20</td>\n",
       "    </tr>\n",
       "    <tr>\n",
       "      <th>4</th>\n",
       "      <td>20071015</td>\n",
       "      <td>19</td>\n",
       "      <td>994108000780959</td>\n",
       "      <td>CUST0000961285</td>\n",
       "      <td>STORE00001</td>\n",
       "      <td>PRD0903387</td>\n",
       "      <td>1</td>\n",
       "      <td>1.65</td>\n",
       "    </tr>\n",
       "  </tbody>\n",
       "</table>\n",
       "</div>"
      ],
      "text/plain": [
       "   SHOP_DATE  SHOP_HOUR        BASKET_ID       CUST_CODE  STORE_CODE  \\\n",
       "0   20071006         21  994107800268406  CUST0000153531  STORE00001   \n",
       "1   20070201         15  994104300305853  CUST0000219191  STORE00002   \n",
       "2   20071103         13  994108200514137  CUST0000526979  STORE00003   \n",
       "3   20070206         18  994104400743650  CUST0000913709  STORE00004   \n",
       "4   20071015         19  994108000780959  CUST0000961285  STORE00001   \n",
       "\n",
       "    PROD_CODE  QUANTITY  SPEND  \n",
       "0  PRD0901391         1   0.37  \n",
       "1  PRD0901915         1   5.08  \n",
       "2  PRD0903379         1   2.36  \n",
       "3  PRD0903305         1   0.20  \n",
       "4  PRD0903387         1   1.65  "
      ]
     },
     "execution_count": 3,
     "metadata": {},
     "output_type": "execute_result"
    }
   ],
   "source": [
    "#Show sample of information\n",
    "supermarket_file.head()"
   ]
  },
  {
   "cell_type": "code",
   "execution_count": 4,
   "metadata": {},
   "outputs": [],
   "source": [
    "#We count which hour do basket were bought most\n",
    "\n",
    "hourCount={}\n",
    "\n",
    "for index,row in supermarket_file.iterrows():\n",
    "    SHOP_DATE=(row['SHOP_DATE'])\n",
    "    SHOP_HOUR=(row['SHOP_HOUR'])\n",
    "    \n",
    "    BASKET_ID=(row['BASKET_ID'])\n",
    "    \n",
    "    if not SHOP_HOUR in hourCount:\n",
    "        hourCount[SHOP_HOUR]={}\n",
    "\n",
    "    #We list all baskets in each hour\n",
    "    hourCount[SHOP_HOUR][BASKET_ID]=1\n",
    " \n",
    "\n",
    "\n",
    "for hour,baskets in hourCount.items():\n",
    "    #We find total baskets in each hour\n",
    "    hourCount[hour]=len(baskets)"
   ]
  },
  {
   "cell_type": "code",
   "execution_count": 5,
   "metadata": {},
   "outputs": [
    {
     "name": "stderr",
     "output_type": "stream",
     "text": [
      "C:\\Users\\vjib\\Anaconda3\\lib\\site-packages\\matplotlib\\figure.py:98: MatplotlibDeprecationWarning: \n",
      "Adding an axes using the same arguments as a previous axes currently reuses the earlier instance.  In a future version, a new instance will always be created and returned.  Meanwhile, this warning can be suppressed, and the future behavior ensured, by passing a unique label to each axes instance.\n",
      "  \"Adding an axes using the same arguments as a previous axes \"\n"
     ]
    },
    {
     "data": {
      "text/plain": [
       "Text(0.5, 1.0, '# of baskets by hour')"
      ]
     },
     "execution_count": 5,
     "metadata": {},
     "output_type": "execute_result"
    },
    {
     "data": {
      "image/png": "[encoded data removed]",
      "text/plain": [
       "<Figure size 432x288 with 1 Axes>"
      ]
     },
     "metadata": {
      "needs_background": "light"
     },
     "output_type": "display_data"
    }
   ],
   "source": [
    "#We plot the cycle of basket bought by hour\n",
    "\n",
    "plt.bar(hourCount.keys(),hourCount.values(),color='#1E8BC3')\n",
    "ax = plt.subplot()\n",
    "fmt = '{x:,.0f}'\n",
    "tick = mtick.StrMethodFormatter(fmt)\n",
    "ax.yaxis.set_major_formatter(tick)\n",
    "ax.set_xlabel('Hour')\n",
    "ax.set_ylabel('# of baskets')\n",
    "plt.title('# of baskets by hour')"
   ]
  },
  {
   "cell_type": "code",
   "execution_count": 6,
   "metadata": {},
   "outputs": [],
   "source": [
    "#We count which month do basket were bought most\n",
    "\n",
    "dateCount={}\n",
    "\n",
    "for index,row in supermarket_file.iterrows():\n",
    "    SHOP_DATE=str(row['SHOP_DATE'])\n",
    "\n",
    "    BASKET_ID=(row['BASKET_ID'])\n",
    "\n",
    "    yyyymm=SHOP_DATE[0:6]\n",
    "    \n",
    "    if not yyyymm in dateCount:\n",
    "        dateCount[yyyymm]={}\n",
    "\n",
    "    #We list all baskets in each mont\n",
    "    dateCount[yyyymm][BASKET_ID]=1\n",
    " \n",
    "for date,baskets in dateCount.items():\n",
    "    #We find total baskets in each month\n",
    "    dateCount[date]=len(baskets)"
   ]
  },
  {
   "cell_type": "code",
   "execution_count": 7,
   "metadata": {},
   "outputs": [
    {
     "data": {
      "text/plain": [
       "['200701',\n",
       " '200702',\n",
       " '200703',\n",
       " '200704',\n",
       " '200705',\n",
       " '200706',\n",
       " '200707',\n",
       " '200708',\n",
       " '200709',\n",
       " '200710',\n",
       " '200711',\n",
       " '200712',\n",
       " '200801',\n",
       " '200802',\n",
       " '200803',\n",
       " '200804',\n",
       " '200805',\n",
       " '200806',\n",
       " '200807']"
      ]
     },
     "execution_count": 7,
     "metadata": {},
     "output_type": "execute_result"
    }
   ],
   "source": [
    "#We set the x-axis for the monthly plot\n",
    "\n",
    "date_pivot=[]\n",
    "\n",
    "for year in range(2007,2009):\n",
    "    for month in range(1,13):\n",
    "        if year==2008 and month>7:\n",
    "            break\n",
    "        date_pivot.append(str(year)+str(month).zfill(2))\n",
    "        \n",
    "date_pivot"
   ]
  },
  {
   "cell_type": "code",
   "execution_count": 8,
   "metadata": {},
   "outputs": [
    {
     "data": {
      "text/plain": [
       "Text(0.5, 1.0, '# of baskets by date')"
      ]
     },
     "execution_count": 8,
     "metadata": {},
     "output_type": "execute_result"
    },
    {
     "data": {
      "image/png": "[encoded data removed]",
      "text/plain": [
       "<Figure size 432x288 with 1 Axes>"
      ]
     },
     "metadata": {
      "needs_background": "light"
     },
     "output_type": "display_data"
    }
   ],
   "source": [
    "#We plot the pattern of basket bought by month\n",
    "\n",
    "plt.bar(dateCount.keys(),dateCount.values(),color='#1E8BC3')\n",
    "ax = plt.subplot()\n",
    "ax.set_xticklabels(date_pivot)\n",
    "fmt = '{x:,.0f}'\n",
    "tick = mtick.StrMethodFormatter(fmt)\n",
    "plt.xticks(rotation='vertical')\n",
    "ax.yaxis.set_major_formatter(tick)\n",
    "ax.set_xlabel('Date')\n",
    "ax.set_ylabel('# of baskets')\n",
    "plt.title('# of baskets by date')"
   ]
  },
  {
   "cell_type": "code",
   "execution_count": 9,
   "metadata": {},
   "outputs": [
    {
     "data": {
      "text/plain": [
       "4891"
      ]
     },
     "execution_count": 9,
     "metadata": {},
     "output_type": "execute_result"
    }
   ],
   "source": [
    "#We find how much do each customers spend for their life time\n",
    "\n",
    "purchasePower={}\n",
    "\n",
    "for index,row in supermarket_file.iterrows():\n",
    "    SPEND=(row['SPEND'])\n",
    "\n",
    "    CUST_CODE=(row['CUST_CODE'])\n",
    "\n",
    "    if not CUST_CODE in purchasePower:\n",
    "        purchasePower[CUST_CODE]=0\n",
    "\n",
    "    purchasePower[CUST_CODE]+=SPEND\n",
    "\n",
    "len(purchasePower)"
   ]
  },
  {
   "cell_type": "code",
   "execution_count": 14,
   "metadata": {},
   "outputs": [
    {
     "data": {
      "text/plain": [
       "Text(0.5, 1.0, '# of Total purchase power')"
      ]
     },
     "execution_count": 14,
     "metadata": {},
     "output_type": "execute_result"
    },
    {
     "data": {
      "image/png": "[encoded data removed]",
      "text/plain": [
       "<Figure size 432x288 with 1 Axes>"
      ]
     },
     "metadata": {
      "needs_background": "light"
     },
     "output_type": "display_data"
    }
   ],
   "source": [
    "#We plot the frequency of total purchase power. It indicates that most people tend to spend less than $200 for their life time\n",
    "\n",
    "plt.hist(purchasePower.values(), 50, facecolor='#1E8BC3')\n",
    "ax = plt.subplot()\n",
    "fmt = '{x:,.0f}'\n",
    "tick = mtick.StrMethodFormatter(fmt)\n",
    "ax.xaxis.set_major_formatter(tick)\n",
    "ax.yaxis.set_major_formatter(tick)\n",
    "ax.set_xlabel('Total purchase power')\n",
    "ax.set_ylabel('# of customer')\n",
    "plt.title('# of Total purchase power')"
   ]
  },
  {
   "cell_type": "code",
   "execution_count": 11,
   "metadata": {},
   "outputs": [],
   "source": [
    "#We find how many time do each customers buy in the supermarket for their life time\n",
    "\n",
    "purchaseTime={}\n",
    "\n",
    "for index,row in supermarket_file.iterrows():\n",
    "    BASKET_ID=(row['BASKET_ID'])\n",
    "    SPEND=(row['SPEND'])\n",
    "    CUST_CODE=(row['CUST_CODE'])\n",
    "\n",
    "    if not CUST_CODE in purchaseTime:\n",
    "        purchaseTime[CUST_CODE]={}\n",
    "\n",
    "    if not BASKET_ID in purchaseTime[CUST_CODE]:\n",
    "        purchaseTime[CUST_CODE][BASKET_ID]=0\n",
    "        \n",
    "    purchaseTime[CUST_CODE][BASKET_ID]+=SPEND\n",
    "\n",
    "for customer_id,baskets in purchaseTime.items():\n",
    "    purchaseTime[customer_id]=len(baskets)"
   ]
  },
  {
   "cell_type": "code",
   "execution_count": 15,
   "metadata": {},
   "outputs": [
    {
     "data": {
      "text/plain": [
       "Text(0.5, 1.0, '# of time of purchasing')"
      ]
     },
     "execution_count": 15,
     "metadata": {},
     "output_type": "execute_result"
    },
    {
     "data": {
      "image/png": "[encoded data removed]",
      "text/plain": [
       "<Figure size 432x288 with 1 Axes>"
      ]
     },
     "metadata": {
      "needs_background": "light"
     },
     "output_type": "display_data"
    }
   ],
   "source": [
    "#We plot the frequency of time of purchasing. It indicates that most people tend to spend less than 10 time for their life time\n",
    "\n",
    "plt.hist(purchaseTime.values(), 50, facecolor='#1E8BC3')\n",
    "ax = plt.subplot()\n",
    "fmt = '{x:,.0f}'\n",
    "tick = mtick.StrMethodFormatter(fmt)\n",
    "ax.yaxis.set_major_formatter(tick)\n",
    "ax.set_xlabel('Total time of purchasing')\n",
    "ax.set_ylabel('# of customer')\n",
    "plt.title('# of time of purchasing')"
   ]
  },
  {
   "cell_type": "code",
   "execution_count": 13,
   "metadata": {},
   "outputs": [],
   "source": [
    "#We find average spend per purchase in each customers for their life time\n",
    "\n",
    "averagePurchase={}\n",
    "\n",
    "for customer_id,spend in purchasePower.items():\n",
    "    averagePurchase[customer_id]=purchasePower[customer_id]/purchaseTime[customer_id]"
   ]
  },
  {
   "cell_type": "code",
   "execution_count": 16,
   "metadata": {},
   "outputs": [
    {
     "data": {
      "text/plain": [
       "Text(0.5, 1.0, 'Average spending by customer')"
      ]
     },
     "execution_count": 16,
     "metadata": {},
     "output_type": "execute_result"
    },
    {
     "data": {
      "image/png": "[encoded data removed]",
      "text/plain": [
       "<Figure size 432x288 with 1 Axes>"
      ]
     },
     "metadata": {
      "needs_background": "light"
     },
     "output_type": "display_data"
    }
   ],
   "source": [
    "#We plot the average spending per customer. It shows the distribution of the average spending as shown below\n",
    "\n",
    "plt.hist(averagePurchase.values(), 100, facecolor='#1E8BC3')\n",
    "ax = plt.subplot()\n",
    "fmt = '{x:,.0f}'\n",
    "tick = mtick.StrMethodFormatter(fmt)\n",
    "ax.yaxis.set_major_formatter(tick)\n",
    "ax.set_xlabel('Average spending')\n",
    "ax.set_ylabel('# of customer')\n",
    "plt.title('Average spending by customer')"
   ]
  },
  {
   "cell_type": "code",
   "execution_count": 18,
   "metadata": {},
   "outputs": [],
   "source": [
    "#We want to plot scatter between total spending and time of purchasing for each customers to search for insights\n",
    "\n",
    "x_purchaseTime=[]\n",
    "y_spending=[]\n",
    "\n",
    "for customer_id,spend in purchasePower.items():\n",
    "    x_purchaseTime.append(purchaseTime[customer_id])\n",
    "    y_spending.append(purchasePower[customer_id])"
   ]
  },
  {
   "cell_type": "code",
   "execution_count": 19,
   "metadata": {},
   "outputs": [
    {
     "data": {
      "text/plain": [
       "(13.612106398658359, 12.235655399611323)"
      ]
     },
     "execution_count": 19,
     "metadata": {},
     "output_type": "execute_result"
    }
   ],
   "source": [
    "# Compute linear regression for the relationship between total spending and time of purchasing\n",
    "\n",
    "b, m = polyfit(x_purchaseTime, y_spending, 1)\n",
    "b,m"
   ]
  },
  {
   "cell_type": "code",
   "execution_count": 20,
   "metadata": {},
   "outputs": [
    {
     "name": "stderr",
     "output_type": "stream",
     "text": [
      "C:\\Users\\vjib\\Anaconda3\\lib\\site-packages\\matplotlib\\figure.py:98: MatplotlibDeprecationWarning: \n",
      "Adding an axes using the same arguments as a previous axes currently reuses the earlier instance.  In a future version, a new instance will always be created and returned.  Meanwhile, this warning can be suppressed, and the future behavior ensured, by passing a unique label to each axes instance.\n",
      "  \"Adding an axes using the same arguments as a previous axes \"\n"
     ]
    },
    {
     "data": {
      "text/plain": [
       "[<matplotlib.lines.Line2D at 0x17cbdd55e48>]"
      ]
     },
     "execution_count": 20,
     "metadata": {},
     "output_type": "execute_result"
    },
    {
     "data": {
      "image/png": "[encoded data removed]",
      "text/plain": [
       "<Figure size 432x288 with 1 Axes>"
      ]
     },
     "metadata": {
      "needs_background": "light"
     },
     "output_type": "display_data"
    }
   ],
   "source": [
    "# We plot the scatter as shown below. And we can detect which customers purchase often with low spending so they would be our target for \n",
    "#boosting their revenue. \n",
    "\n",
    "plt.scatter(x_purchaseTime,y_spending,color='#1E8BC3')\n",
    "ax = plt.subplot()\n",
    "fmt = '{x:,.0f}'\n",
    "tick = mtick.StrMethodFormatter(fmt)\n",
    "ax.xaxis.set_major_formatter(tick)\n",
    "ax.yaxis.set_major_formatter(tick)\n",
    "ax.set_xlabel('Purchase time')\n",
    "ax.set_ylabel('Spending')\n",
    "plt.title('Relation between spending and purchase time')\n",
    "\n",
    "x = np.linspace(0, 500, 50)\n",
    "plt.plot(x,  m*x+b, linestyle='dashed',color=\"red\")"
   ]
  },
  {
   "cell_type": "code",
   "execution_count": 4,
   "metadata": {},
   "outputs": [],
   "source": [
    "#Next, we will show how to implement user-based collaborative filtering recommender system\n",
    "\n",
    "# We want to know how many do each products bought for their life time\n",
    "productBoughtCount={}\n",
    "\n",
    "for index,row in supermarket_file.iterrows():\n",
    "    PROD_CODE=(row['PROD_CODE'])\n",
    "    QUANTITY=int(row['QUANTITY'])\n",
    "    \n",
    "    if not PROD_CODE in productBoughtCount:\n",
    "        productBoughtCount[PROD_CODE]=[0]\n",
    "\n",
    "    productBoughtCount[PROD_CODE][0]+=QUANTITY"
   ]
  },
  {
   "cell_type": "code",
   "execution_count": 5,
   "metadata": {},
   "outputs": [
    {
     "data": {
      "text/html": [
       "<div>\n",
       "<style scoped>\n",
       "    .dataframe tbody tr th:only-of-type {\n",
       "        vertical-align: middle;\n",
       "    }\n",
       "\n",
       "    .dataframe tbody tr th {\n",
       "        vertical-align: top;\n",
       "    }\n",
       "\n",
       "    .dataframe thead th {\n",
       "        text-align: right;\n",
       "    }\n",
       "</style>\n",
       "<table border=\"1\" class=\"dataframe\">\n",
       "  <thead>\n",
       "    <tr style=\"text-align: right;\">\n",
       "      <th></th>\n",
       "      <th>amount of buying</th>\n",
       "    </tr>\n",
       "  </thead>\n",
       "  <tbody>\n",
       "    <tr>\n",
       "      <th>PRD0901391</th>\n",
       "      <td>242</td>\n",
       "    </tr>\n",
       "    <tr>\n",
       "      <th>PRD0901915</th>\n",
       "      <td>1422</td>\n",
       "    </tr>\n",
       "    <tr>\n",
       "      <th>PRD0903379</th>\n",
       "      <td>41</td>\n",
       "    </tr>\n",
       "    <tr>\n",
       "      <th>PRD0903305</th>\n",
       "      <td>15</td>\n",
       "    </tr>\n",
       "    <tr>\n",
       "      <th>PRD0903387</th>\n",
       "      <td>51</td>\n",
       "    </tr>\n",
       "  </tbody>\n",
       "</table>\n",
       "</div>"
      ],
      "text/plain": [
       "            amount of buying\n",
       "PRD0901391               242\n",
       "PRD0901915              1422\n",
       "PRD0903379                41\n",
       "PRD0903305                15\n",
       "PRD0903387                51"
      ]
     },
     "execution_count": 5,
     "metadata": {},
     "output_type": "execute_result"
    }
   ],
   "source": [
    "# We show the amount of buying for each products\n",
    "\n",
    "product_dataframe=pd.DataFrame.from_dict(productBoughtCount, orient='index',columns=['amount of buying'])\n",
    "product_dataframe.head()"
   ]
  },
  {
   "cell_type": "code",
   "execution_count": 6,
   "metadata": {},
   "outputs": [
    {
     "data": {
      "text/plain": [
       "amount of buying    4978\n",
       "dtype: int64"
      ]
     },
     "execution_count": 6,
     "metadata": {},
     "output_type": "execute_result"
    }
   ],
   "source": [
    "# We want to know how many products in the supermarket (In this case: 4,978 products)\n",
    "\n",
    "product_dataframe.count()"
   ]
  },
  {
   "cell_type": "code",
   "execution_count": 7,
   "metadata": {},
   "outputs": [
    {
     "data": {
      "text/html": [
       "<div>\n",
       "<style scoped>\n",
       "    .dataframe tbody tr th:only-of-type {\n",
       "        vertical-align: middle;\n",
       "    }\n",
       "\n",
       "    .dataframe tbody tr th {\n",
       "        vertical-align: top;\n",
       "    }\n",
       "\n",
       "    .dataframe thead th {\n",
       "        text-align: right;\n",
       "    }\n",
       "</style>\n",
       "<table border=\"1\" class=\"dataframe\">\n",
       "  <thead>\n",
       "    <tr style=\"text-align: right;\">\n",
       "      <th></th>\n",
       "      <th>amount of buying</th>\n",
       "    </tr>\n",
       "  </thead>\n",
       "  <tbody>\n",
       "    <tr>\n",
       "      <th>PRD0901391</th>\n",
       "      <td>242</td>\n",
       "    </tr>\n",
       "    <tr>\n",
       "      <th>PRD0901915</th>\n",
       "      <td>1422</td>\n",
       "    </tr>\n",
       "    <tr>\n",
       "      <th>PRD0903764</th>\n",
       "      <td>1618</td>\n",
       "    </tr>\n",
       "    <tr>\n",
       "      <th>PRD0903130</th>\n",
       "      <td>5667</td>\n",
       "    </tr>\n",
       "    <tr>\n",
       "      <th>PRD0900183</th>\n",
       "      <td>688</td>\n",
       "    </tr>\n",
       "  </tbody>\n",
       "</table>\n",
       "</div>"
      ],
      "text/plain": [
       "            amount of buying\n",
       "PRD0901391               242\n",
       "PRD0901915              1422\n",
       "PRD0903764              1618\n",
       "PRD0903130              5667\n",
       "PRD0900183               688"
      ]
     },
     "execution_count": 7,
     "metadata": {},
     "output_type": "execute_result"
    }
   ],
   "source": [
    "# We want to list the products (for recommender system) which have significant amount of buying by picking one which have more than average of buying\n",
    "# because we want to focus on the important products and we want to reduce complexity of the model.\n",
    "\n",
    "significant_product_dataframe=product_dataframe[product_dataframe['amount of buying']>=int(product_dataframe.mean())]\n",
    "significant_product_dataframe.head()"
   ]
  },
  {
   "cell_type": "code",
   "execution_count": 8,
   "metadata": {},
   "outputs": [
    {
     "data": {
      "text/plain": [
       "amount of buying    1092\n",
       "dtype: int64"
      ]
     },
     "execution_count": 8,
     "metadata": {},
     "output_type": "execute_result"
    }
   ],
   "source": [
    "# We want to know how many products, with the significant amount of buying, in the supermarket (In this case: 1,092 products)\n",
    "\n",
    "significant_product_dataframe.count()"
   ]
  },
  {
   "cell_type": "code",
   "execution_count": 42,
   "metadata": {},
   "outputs": [],
   "source": [
    "# We create variable assigning amount of buying to each product\n",
    "\n",
    "significantProductBoughtCount={}\n",
    "\n",
    "for product_id,freq in productBoughtCount.items():\n",
    "\n",
    "    if (freq[0]>int(product_dataframe.mean())):\n",
    "        significantProductBoughtCount[product_id]=[freq]"
   ]
  },
  {
   "cell_type": "code",
   "execution_count": 43,
   "metadata": {},
   "outputs": [],
   "source": [
    "# We create variable mapping the productid to index and mapping index to productid\n",
    "\n",
    "productid_to_index={product_id:index for index,product_id in enumerate(significantProductBoughtCount)}\n",
    "index_to_productid={index:product_id for index,product_id in enumerate(significantProductBoughtCount)}"
   ]
  },
  {
   "cell_type": "code",
   "execution_count": 64,
   "metadata": {},
   "outputs": [],
   "source": [
    "# We create the basket vector showing what do each customer buy in their basket.\n",
    "\n",
    "basket_vectors={}\n",
    "\n",
    "for index,row in supermarket_file.iterrows():\n",
    "\n",
    "    BASKET_ID=str(row['BASKET_ID'])\n",
    "    PROD_CODE=row['PROD_CODE']\n",
    "    \n",
    "    QUANTITY=row['QUANTITY']\n",
    "    \n",
    "    #We focus only on significant products\n",
    "    if PROD_CODE in productid_to_index:\n",
    "        if not BASKET_ID in basket_vectors:\n",
    "            basket_vectors[BASKET_ID]={}\n",
    "            \n",
    "        product_index=productid_to_index[PROD_CODE]\n",
    "            \n",
    "        # We reduct the bias of large number by using logarithm transformation\n",
    "        basket_vectors[BASKET_ID][product_index]=math.log(QUANTITY+1)\n",
    "        \n",
    "# each vector indicates each basket"
   ]
  },
  {
   "cell_type": "code",
   "execution_count": 65,
   "metadata": {},
   "outputs": [],
   "source": [
    "# We compute the length of each basket vector\n",
    "\n",
    "basket_vector_size={}\n",
    "\n",
    "for basket_id,vector in basket_vectors.items():\n",
    "    vector_size=0\n",
    "    for product_id,weight in vector.items():\n",
    "        vector_size+=weight**2\n",
    "    basket_vector_size[basket_id]=math.sqrt(vector_size)"
   ]
  },
  {
   "cell_type": "code",
   "execution_count": 66,
   "metadata": {},
   "outputs": [],
   "source": [
    "# We split the training set and the testing set with the ratio 90:10\n",
    "\n",
    "basket_keys =  list(basket_vectors.keys()) \n",
    "rd.shuffle(basket_keys)\n",
    "\n",
    "basket_vectors_train={}\n",
    "basket_vectors_test={}\n",
    "\n",
    "train_test_split_ratio=0.1\n",
    "\n",
    "for index in range(len(basket_keys)):\n",
    "    basket_id=basket_keys[index]\n",
    "    if index<train_test_split_ratio*len(basket_keys):\n",
    "        basket_vectors_test[basket_id]=basket_vectors[basket_id]\n",
    "    else:\n",
    "        basket_vectors_train[basket_id]=basket_vectors[basket_id]"
   ]
  },
  {
   "cell_type": "code",
   "execution_count": 67,
   "metadata": {},
   "outputs": [],
   "source": [
    "def cosineSimilarity(my_vector,my_vector_size):\n",
    "    # We compute all the cosine similarity between our basket vector and other basket vectors\n",
    "    \n",
    "    # cos = (A*B)/(|A||B|)\n",
    "    vector_score={}\n",
    "    \n",
    "    for basket_id,vector in basket_vectors_train.items():\n",
    "        vector_score[basket_id]=0\n",
    "        \n",
    "        # We want to compute the dot product in the intersect weight because the dot product will be nonzero\n",
    "        intersect_weight=list(set(vector)&set(my_vector))\n",
    "        \n",
    "        for weight in intersect_weight:\n",
    "            vector_score[basket_id]+=(my_vector[weight]*vector[weight])\n",
    "             \n",
    "        vector_score[basket_id]/=(my_vector_size*basket_vector_size[basket_id])\n",
    "        \n",
    "    return vector_score"
   ]
  },
  {
   "cell_type": "code",
   "execution_count": 68,
   "metadata": {},
   "outputs": [],
   "source": [
    "def jaccardSimilarity(my_vector):\n",
    "    # We compute all the jaccard similarity between our basket vector and other basket vectors\n",
    "    \n",
    "    # distance = |A^B| / |AUB|\n",
    "    vector_score={}\n",
    "    \n",
    "    for basket_id,vector in basket_vectors_train.items():\n",
    "        \n",
    "        intersect_size=len(list(set(vector)&set(my_vector)))\n",
    "        union_size=len(list(set(vector)|set(my_vector)))\n",
    "\n",
    "        vector_score[basket_id]=(intersect_size)/(union_size)\n",
    "        \n",
    "    return vector_score"
   ]
  },
  {
   "cell_type": "code",
   "execution_count": 69,
   "metadata": {},
   "outputs": [],
   "source": [
    "# We implement recommender system algorithm\n",
    "\n",
    "def recommendProduct(product_list):\n",
    "    \n",
    "    my_vector={}\n",
    "    my_vector_size=0\n",
    "    \n",
    "    for product,quantity in product_list.items():\n",
    "        if product in productid_to_index:\n",
    "            product_index=productid_to_index[product]\n",
    "            \n",
    "            my_vector[product_index]=math.log(quantity+1)\n",
    "            \n",
    "            my_vector_size+=my_vector[product_index]**2\n",
    "            \n",
    "    my_vector_size=math.sqrt(my_vector_size)\n",
    "            \n",
    "    #vector_score=cosineSimilarity(my_vector,my_vector_size)\n",
    "    vector_score=jaccardSimilarity(my_vector)\n",
    "\n",
    "    # We sort the similarility score for each basket vectors from highest to lowest\n",
    "    sorted_vector_score=sorted(vector_score.items(), key=lambda item: item[1],reverse=True)\n",
    "\n",
    "    try_count=0\n",
    "    \n",
    "    recommend_product_list=[]\n",
    "    \n",
    "    # We want to recommend anything so that we try to find the product to suggest in the first 50 basket vectors\n",
    "    while (not recommend_product_list and try_count<50):\n",
    "        # We pick one with the highest cosine similarity and skip to the next highest one if there are nothing to recommend\n",
    "        recommend_vector_id=sorted_vector_score[try_count][0]\n",
    "\n",
    "        recommend_vector=basket_vectors_train[recommend_vector_id]\n",
    "\n",
    "        # We list all the relevant products less products they already own\n",
    "        recommend_product_id_list=set(basket_vectors_train[recommend_vector_id].keys())-set(my_vector)\n",
    "        recommend_product_list=[]\n",
    "\n",
    "        for product_id in recommend_product_id_list:\n",
    "            recommend_product_list.append(index_to_productid[product_id])\n",
    "            \n",
    "        try_count+=1\n",
    "                   \n",
    "    #print(try_count,product_list,recommend_product_list)\n",
    "    return recommend_product_list"
   ]
  },
  {
   "cell_type": "code",
   "execution_count": 55,
   "metadata": {},
   "outputs": [
    {
     "data": {
      "text/plain": [
       "['PRD0903678']"
      ]
     },
     "execution_count": 55,
     "metadata": {},
     "output_type": "execute_result"
    }
   ],
   "source": [
    "# Example of how algorithm works\n",
    "\n",
    "our_basket={\n",
    "    'PRD0902613': 1,\n",
    "    'PRD0902375': 1}\n",
    "\n",
    "recommendProduct(our_basket)"
   ]
  },
  {
   "cell_type": "code",
   "execution_count": 56,
   "metadata": {},
   "outputs": [],
   "source": [
    "# We may convert basket vector to the format that can be the input of recommender system\n",
    "\n",
    "def convertVectorToBasket(vector):\n",
    "    new_vector={}\n",
    "    for product_index,log_freq in vector.items():\n",
    "        product_id=index_to_productid[product_index]\n",
    "        freq=math.exp(log_freq)-1\n",
    "        new_vector[product_id]=freq\n",
    "    return new_vector"
   ]
  },
  {
   "cell_type": "code",
   "execution_count": null,
   "metadata": {},
   "outputs": [
    {
     "name": "stdout",
     "output_type": "stream",
     "text": [
      "Start evaluating\n"
     ]
    }
   ],
   "source": [
    "# Compute the accuracy of the testing set\n",
    "\n",
    "acc_list=[]\n",
    "\n",
    "count=0\n",
    "\n",
    "start_time = time.time()\n",
    "print(\"Start evaluating\")\n",
    "\n",
    "for basket_id,vector in basket_vectors_test.items():\n",
    "    \n",
    "    # We randomly drop one product from the basket and we want to know if recommender system suggest our dropped product\n",
    "    basket_keys =  list(vector.keys()) \n",
    "    rd.shuffle(basket_keys)\n",
    "    \n",
    "    pop_index=basket_keys[0]\n",
    "    product_pop=index_to_productid[pop_index]\n",
    "    \n",
    "    preprocess_vector={}\n",
    "    \n",
    "    for index in range(1,len(basket_keys)):\n",
    "        preprocess_vector[basket_keys[index]]=vector[basket_keys[index]]\n",
    "    \n",
    "    if (len(preprocess_vector)>0):\n",
    "        recommend_product_list=recommendProduct(convertVectorToBasket(preprocess_vector))\n",
    "\n",
    "        # Check if recommend_product_list have our dropped product\n",
    "        if product_pop in recommend_product_list:\n",
    "            acc_list.append(1)\n",
    "        else:\n",
    "            acc_list.append(0)\n",
    "            \n",
    "    count+=1\n",
    "    \n",
    "elapsed_time = time.time() - start_time\n",
    "\n",
    "print(\"Time usage : \"+str(round(elapsed_time,2))+\" seconds\")"
   ]
  },
  {
   "cell_type": "code",
   "execution_count": 63,
   "metadata": {},
   "outputs": [
    {
     "name": "stdout",
     "output_type": "stream",
     "text": [
      "Accuracy = 0.1705685618729097\n"
     ]
    }
   ],
   "source": [
    "# Show the accuracy of the recommender system using cosine similarity\n",
    "\n",
    "acc=np.mean(acc_list)\n",
    "print(\"Accuracy = \"+str(acc))"
   ]
  },
  {
   "cell_type": "code",
   "execution_count": null,
   "metadata": {},
   "outputs": [],
   "source": [
    "# Show the accuracy of the recommender system using jaccard similarity\n",
    "\n",
    "acc=np.mean(acc_list)\n",
    "print(\"Accuracy = \"+str(acc))"
   ]
  },
  {
   "cell_type": "code",
   "execution_count": null,
   "metadata": {},
   "outputs": [],
   "source": []
  }
 ],
 "metadata": {
  "kernelspec": {
   "display_name": "Python 3",
   "language": "python",
   "name": "python3"
  },
  "language_info": {
   "codemirror_mode": {
    "name": "ipython",
    "version": 3
   },
   "file_extension": ".py",
   "mimetype": "text/x-python",
   "name": "python",
   "nbconvert_exporter": "python",
   "pygments_lexer": "ipython3",
   "version": "3.7.1"
  }
 },
 "nbformat": 4,
 "nbformat_minor": 2
}
