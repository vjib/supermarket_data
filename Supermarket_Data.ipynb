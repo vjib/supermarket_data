{
 "cells": [
  {
   "cell_type": "code",
   "execution_count": 1,
   "metadata": {},
   "outputs": [],
   "source": [
    "import pandas as pd\n",
    "import datetime\n",
    "import numpy as np\n",
    "import math\n",
    "import matplotlib.pyplot as plt\n",
    "import matplotlib.ticker as mtick\n",
    "from numpy.polynomial.polynomial import polyfit\n",
    "import random as rd\n",
    "import time"
   ]
  },
  {
   "cell_type": "code",
   "execution_count": 2,
   "metadata": {},
   "outputs": [],
   "source": [
    "file_url=\"supermarket_data.csv\"\n",
    "\n",
    "#Load data from CSV\n",
    "supermarket_file=pd.read_csv(file_url)"
   ]
  },
  {
   "cell_type": "code",
   "execution_count": 3,
   "metadata": {},
   "outputs": [
    {
     "data": {
      "text/html": [
       "<div>\n",
       "<style scoped>\n",
       "    .dataframe tbody tr th:only-of-type {\n",
       "        vertical-align: middle;\n",
       "    }\n",
       "\n",
       "    .dataframe tbody tr th {\n",
       "        vertical-align: top;\n",
       "    }\n",
       "\n",
       "    .dataframe thead th {\n",
       "        text-align: right;\n",
       "    }\n",
       "</style>\n",
       "<table border=\"1\" class=\"dataframe\">\n",
       "  <thead>\n",
       "    <tr style=\"text-align: right;\">\n",
       "      <th></th>\n",
       "      <th>SHOP_DATE</th>\n",
       "      <th>SHOP_HOUR</th>\n",
       "      <th>BASKET_ID</th>\n",
       "      <th>CUST_CODE</th>\n",
       "      <th>STORE_CODE</th>\n",
       "      <th>PROD_CODE</th>\n",
       "      <th>QUANTITY</th>\n",
       "      <th>SPEND</th>\n",
       "    </tr>\n",
       "  </thead>\n",
       "  <tbody>\n",
       "    <tr>\n",
       "      <th>0</th>\n",
       "      <td>20071006</td>\n",
       "      <td>21</td>\n",
       "      <td>994107800268406</td>\n",
       "      <td>CUST0000153531</td>\n",
       "      <td>STORE00001</td>\n",
       "      <td>PRD0901391</td>\n",
       "      <td>1</td>\n",
       "      <td>0.37</td>\n",
       "    </tr>\n",
       "    <tr>\n",
       "      <th>1</th>\n",
       "      <td>20070201</td>\n",
       "      <td>15</td>\n",
       "      <td>994104300305853</td>\n",
       "      <td>CUST0000219191</td>\n",
       "      <td>STORE00002</td>\n",
       "      <td>PRD0901915</td>\n",
       "      <td>1</td>\n",
       "      <td>5.08</td>\n",
       "    </tr>\n",
       "    <tr>\n",
       "      <th>2</th>\n",
       "      <td>20071103</td>\n",
       "      <td>13</td>\n",
       "      <td>994108200514137</td>\n",
       "      <td>CUST0000526979</td>\n",
       "      <td>STORE00003</td>\n",
       "      <td>PRD0903379</td>\n",
       "      <td>1</td>\n",
       "      <td>2.36</td>\n",
       "    </tr>\n",
       "    <tr>\n",
       "      <th>3</th>\n",
       "      <td>20070206</td>\n",
       "      <td>18</td>\n",
       "      <td>994104400743650</td>\n",
       "      <td>CUST0000913709</td>\n",
       "      <td>STORE00004</td>\n",
       "      <td>PRD0903305</td>\n",
       "      <td>1</td>\n",
       "      <td>0.20</td>\n",
       "    </tr>\n",
       "    <tr>\n",
       "      <th>4</th>\n",
       "      <td>20071015</td>\n",
       "      <td>19</td>\n",
       "      <td>994108000780959</td>\n",
       "      <td>CUST0000961285</td>\n",
       "      <td>STORE00001</td>\n",
       "      <td>PRD0903387</td>\n",
       "      <td>1</td>\n",
       "      <td>1.65</td>\n",
       "    </tr>\n",
       "  </tbody>\n",
       "</table>\n",
       "</div>"
      ],
      "text/plain": [
       "   SHOP_DATE  SHOP_HOUR        BASKET_ID       CUST_CODE  STORE_CODE  \\\n",
       "0   20071006         21  994107800268406  CUST0000153531  STORE00001   \n",
       "1   20070201         15  994104300305853  CUST0000219191  STORE00002   \n",
       "2   20071103         13  994108200514137  CUST0000526979  STORE00003   \n",
       "3   20070206         18  994104400743650  CUST0000913709  STORE00004   \n",
       "4   20071015         19  994108000780959  CUST0000961285  STORE00001   \n",
       "\n",
       "    PROD_CODE  QUANTITY  SPEND  \n",
       "0  PRD0901391         1   0.37  \n",
       "1  PRD0901915         1   5.08  \n",
       "2  PRD0903379         1   2.36  \n",
       "3  PRD0903305         1   0.20  \n",
       "4  PRD0903387         1   1.65  "
      ]
     },
     "execution_count": 3,
     "metadata": {},
     "output_type": "execute_result"
    }
   ],
   "source": [
    "#Show sample of information\n",
    "supermarket_file.head()"
   ]
  },
  {
   "cell_type": "code",
   "execution_count": 4,
   "metadata": {},
   "outputs": [],
   "source": [
    "#We count which hour do basket were bought most\n",
    "\n",
    "hourCount={}\n",
    "\n",
    "for index,row in supermarket_file.iterrows():\n",
    "    SHOP_DATE=(row['SHOP_DATE'])\n",
    "    SHOP_HOUR=(row['SHOP_HOUR'])\n",
    "    \n",
    "    BASKET_ID=(row['BASKET_ID'])\n",
    "    \n",
    "    if not SHOP_HOUR in hourCount:\n",
    "        hourCount[SHOP_HOUR]={}\n",
    "\n",
    "    #We list all baskets in each hour\n",
    "    hourCount[SHOP_HOUR][BASKET_ID]=1\n",
    " \n",
    "\n",
    "\n",
    "for hour,baskets in hourCount.items():\n",
    "    #We find total baskets in each hour\n",
    "    hourCount[hour]=len(baskets)"
   ]
  },
  {
   "cell_type": "code",
   "execution_count": 5,
   "metadata": {},
   "outputs": [
    {
     "name": "stderr",
     "output_type": "stream",
     "text": [
      "C:\\Users\\vjib\\Anaconda3\\lib\\site-packages\\matplotlib\\figure.py:98: MatplotlibDeprecationWarning: \n",
      "Adding an axes using the same arguments as a previous axes currently reuses the earlier instance.  In a future version, a new instance will always be created and returned.  Meanwhile, this warning can be suppressed, and the future behavior ensured, by passing a unique label to each axes instance.\n",
      "  \"Adding an axes using the same arguments as a previous axes \"\n"
     ]
    },
    {
     "data": {
      "text/plain": [
       "Text(0.5, 1.0, '# of baskets by hour')"
      ]
     },
     "execution_count": 5,
     "metadata": {},
     "output_type": "execute_result"
    },
    {
     "data": {
      "image/png": "[encoded data removed]",
      "text/plain": [
       "<Figure size 432x288 with 1 Axes>"
      ]
     },
     "metadata": {
      "needs_background": "light"
     },
     "output_type": "display_data"
    }
   ],
   "source": [
    "#We plot the cycle of basket bought by hour\n",
    "\n",
    "plt.bar(hourCount.keys(),hourCount.values(),color='#1E8BC3')\n",
    "ax = plt.subplot()\n",
    "fmt = '{x:,.0f}'\n",
    "tick = mtick.StrMethodFormatter(fmt)\n",
    "plt.xticks(rotation='vertical')\n",
    "ax.yaxis.set_major_formatter(tick)\n",
    "ax.set_xlabel('Hour')\n",
    "ax.set_ylabel('# of baskets')\n",
    "plt.title('# of baskets by hour')"
   ]
  },
  {
   "cell_type": "code",
   "execution_count": 16,
   "metadata": {},
   "outputs": [],
   "source": [
    "dateCount={}\n",
    "\n",
    "for index,row in supermarket_file.iterrows():\n",
    "    SHOP_DATE=str(row['SHOP_DATE'])\n",
    "\n",
    "    BASKET_ID=(row['BASKET_ID'])\n",
    "\n",
    "    yyyymm=SHOP_DATE[0:6]\n",
    "    \n",
    "    if not yyyymm in dateCount:\n",
    "        dateCount[yyyymm]={}\n",
    "\n",
    "    dateCount[yyyymm][BASKET_ID]=1\n",
    " \n",
    "for date,baskets in dateCount.items():\n",
    "    dateCount[date]=len(baskets)"
   ]
  },
  {
   "cell_type": "code",
   "execution_count": 26,
   "metadata": {},
   "outputs": [
    {
     "data": {
      "text/plain": [
       "['200701',\n",
       " '200702',\n",
       " '200703',\n",
       " '200704',\n",
       " '200705',\n",
       " '200706',\n",
       " '200707',\n",
       " '200708',\n",
       " '200709',\n",
       " '200710',\n",
       " '200711',\n",
       " '200712',\n",
       " '200801',\n",
       " '200802',\n",
       " '200803',\n",
       " '200804',\n",
       " '200805',\n",
       " '200806',\n",
       " '200807']"
      ]
     },
     "execution_count": 26,
     "metadata": {},
     "output_type": "execute_result"
    }
   ],
   "source": [
    "date_pivot=[]\n",
    "\n",
    "for year in range(2007,2009):\n",
    "    for month in range(1,13):\n",
    "        if year==2008 and month>7:\n",
    "            break\n",
    "        date_pivot.append(str(year)+str(month).zfill(2))\n",
    "        \n",
    "date_pivot"
   ]
  },
  {
   "cell_type": "code",
   "execution_count": 28,
   "metadata": {},
   "outputs": [
    {
     "data": {
      "text/plain": [
       "Text(0.5, 1.0, '# of baskets by date')"
      ]
     },
     "execution_count": 28,
     "metadata": {},
     "output_type": "execute_result"
    },
    {
     "data": {
      "image/png": "[encoded data removed]",
      "text/plain": [
       "<Figure size 432x288 with 1 Axes>"
      ]
     },
     "metadata": {
      "needs_background": "light"
     },
     "output_type": "display_data"
    }
   ],
   "source": [
    "plt.bar(dateCount.keys(),dateCount.values(),color='#1E8BC3')\n",
    "ax = plt.subplot()\n",
    "ax.set_xticklabels(date_pivot)\n",
    "fmt = '{x:,.0f}'\n",
    "tick = mtick.StrMethodFormatter(fmt)\n",
    "plt.xticks(rotation='vertical')\n",
    "ax.yaxis.set_major_formatter(tick)\n",
    "ax.set_xlabel('Date')\n",
    "ax.set_ylabel('# of baskets')\n",
    "plt.title('# of baskets by date')"
   ]
  },
  {
   "cell_type": "code",
   "execution_count": 48,
   "metadata": {},
   "outputs": [
    {
     "data": {
      "text/plain": [
       "4891"
      ]
     },
     "execution_count": 48,
     "metadata": {},
     "output_type": "execute_result"
    }
   ],
   "source": [
    "purchasePower={}\n",
    "\n",
    "for index,row in supermarket_file.iterrows():\n",
    "    SPEND=(row['SPEND'])\n",
    "\n",
    "    CUST_CODE=(row['CUST_CODE'])\n",
    "\n",
    "    if not CUST_CODE in purchasePower:\n",
    "        purchasePower[CUST_CODE]=0\n",
    "\n",
    "    purchasePower[CUST_CODE]+=SPEND\n",
    "\n",
    "len(purchasePower)"
   ]
  },
  {
   "cell_type": "code",
   "execution_count": 55,
   "metadata": {},
   "outputs": [
    {
     "data": {
      "text/plain": [
       "Text(0.5, 1.0, '# of Total purchase power')"
      ]
     },
     "execution_count": 55,
     "metadata": {},
     "output_type": "execute_result"
    },
    {
     "data": {
      "image/png": "[encoded data removed]",
      "text/plain": [
       "<Figure size 432x288 with 1 Axes>"
      ]
     },
     "metadata": {
      "needs_background": "light"
     },
     "output_type": "display_data"
    }
   ],
   "source": [
    "plt.hist(purchasePower.values(), 50, facecolor='#1E8BC3')\n",
    "ax = plt.subplot()\n",
    "fmt = '{x:,.0f}'\n",
    "tick = mtick.StrMethodFormatter(fmt)\n",
    "ax.yaxis.set_major_formatter(tick)\n",
    "ax.set_xlabel('Total purchase power')\n",
    "ax.set_ylabel('# of person')\n",
    "plt.title('# of Total purchase power')"
   ]
  },
  {
   "cell_type": "code",
   "execution_count": 61,
   "metadata": {},
   "outputs": [],
   "source": [
    "purchaseTime={}\n",
    "\n",
    "for index,row in supermarket_file.iterrows():\n",
    "    BASKET_ID=(row['BASKET_ID'])\n",
    "    SPEND=(row['SPEND'])\n",
    "    CUST_CODE=(row['CUST_CODE'])\n",
    "\n",
    "    if not CUST_CODE in purchaseTime:\n",
    "        purchaseTime[CUST_CODE]={}\n",
    "\n",
    "    if not BASKET_ID in purchaseTime[CUST_CODE]:\n",
    "        purchaseTime[CUST_CODE][BASKET_ID]=0\n",
    "        \n",
    "    purchaseTime[CUST_CODE][BASKET_ID]+=SPEND\n",
    "\n",
    "for customer_id,baskets in purchaseTime.items():\n",
    "    purchaseTime[customer_id]=len(baskets)"
   ]
  },
  {
   "cell_type": "code",
   "execution_count": 65,
   "metadata": {},
   "outputs": [
    {
     "data": {
      "text/plain": [
       "Text(0.5, 1.0, '# of time of purchasing')"
      ]
     },
     "execution_count": 65,
     "metadata": {},
     "output_type": "execute_result"
    },
    {
     "data": {
      "image/png": "[encoded data removed]",
      "text/plain": [
       "<Figure size 432x288 with 1 Axes>"
      ]
     },
     "metadata": {
      "needs_background": "light"
     },
     "output_type": "display_data"
    }
   ],
   "source": [
    "plt.hist(purchaseTime.values(), 50, facecolor='#1E8BC3')\n",
    "ax = plt.subplot()\n",
    "fmt = '{x:,.0f}'\n",
    "tick = mtick.StrMethodFormatter(fmt)\n",
    "ax.yaxis.set_major_formatter(tick)\n",
    "ax.set_xlabel('Total time of purchasing')\n",
    "ax.set_ylabel('# of person')\n",
    "plt.title('# of time of purchasing')"
   ]
  },
  {
   "cell_type": "code",
   "execution_count": 67,
   "metadata": {},
   "outputs": [],
   "source": [
    "averagePurchase={}\n",
    "\n",
    "for customer_id,spend in purchasePower.items():\n",
    "    averagePurchase[customer_id]=purchasePower[customer_id]/purchaseTime[customer_id]"
   ]
  },
  {
   "cell_type": "code",
   "execution_count": 69,
   "metadata": {},
   "outputs": [
    {
     "data": {
      "text/plain": [
       "Text(0.5, 1.0, 'Average spending by person')"
      ]
     },
     "execution_count": 69,
     "metadata": {},
     "output_type": "execute_result"
    },
    {
     "data": {
      "image/png": "[encoded data removed]",
      "text/plain": [
       "<Figure size 432x288 with 1 Axes>"
      ]
     },
     "metadata": {
      "needs_background": "light"
     },
     "output_type": "display_data"
    }
   ],
   "source": [
    "plt.hist(averagePurchase.values(), 100, facecolor='#1E8BC3')\n",
    "ax = plt.subplot()\n",
    "fmt = '{x:,.0f}'\n",
    "tick = mtick.StrMethodFormatter(fmt)\n",
    "ax.yaxis.set_major_formatter(tick)\n",
    "ax.set_xlabel('Average spending')\n",
    "ax.set_ylabel('# of person')\n",
    "plt.title('Average spending by person')"
   ]
  },
  {
   "cell_type": "code",
   "execution_count": 70,
   "metadata": {},
   "outputs": [],
   "source": [
    "x_purchaseTime=[]\n",
    "y_spending=[]\n",
    "\n",
    "for customer_id,spend in purchasePower.items():\n",
    "    x_purchaseTime.append(purchaseTime[customer_id])\n",
    "    y_spending.append(purchasePower[customer_id])"
   ]
  },
  {
   "cell_type": "code",
   "execution_count": 87,
   "metadata": {},
   "outputs": [
    {
     "data": {
      "text/plain": [
       "(13.612106398658359, 12.235655399611323)"
      ]
     },
     "execution_count": 87,
     "metadata": {},
     "output_type": "execute_result"
    }
   ],
   "source": [
    "b, m = polyfit(x_purchaseTime, y_spending, 1)\n",
    "b,m"
   ]
  },
  {
   "cell_type": "code",
   "execution_count": 86,
   "metadata": {},
   "outputs": [
    {
     "data": {
      "text/plain": [
       "[<matplotlib.lines.Line2D at 0x25b1c4db588>]"
      ]
     },
     "execution_count": 86,
     "metadata": {},
     "output_type": "execute_result"
    },
    {
     "data": {
      "image/png": "[encoded data removed]",
      "text/plain": [
       "<Figure size 432x288 with 1 Axes>"
      ]
     },
     "metadata": {
      "needs_background": "light"
     },
     "output_type": "display_data"
    }
   ],
   "source": [
    "plt.scatter(x_purchaseTime,y_spending,color='#1E8BC3')\n",
    "ax = plt.subplot()\n",
    "fmt = '{x:,.0f}'\n",
    "tick = mtick.StrMethodFormatter(fmt)\n",
    "plt.xticks(rotation='vertical')\n",
    "ax.yaxis.set_major_formatter(tick)\n",
    "ax.set_xlabel('Purchase time')\n",
    "ax.set_ylabel('Spending')\n",
    "plt.title('Relation between spending and purchase time')\n",
    "\n",
    "x = np.linspace(0, 500, 50)\n",
    "plt.plot(x,  m*x+b, linestyle='dashed',color=\"red\")"
   ]
  },
  {
   "cell_type": "code",
   "execution_count": 79,
   "metadata": {},
   "outputs": [],
   "source": [
    "#Next, we will show how to implement user-based collaborative filtering recommender system\n",
    "\n",
    "productBoughtCount={}\n",
    "\n",
    "for index,row in supermarket_file.iterrows():\n",
    "    PROD_CODE=(row['PROD_CODE'])\n",
    "    QUANTITY=int(row['QUANTITY'])\n",
    "    \n",
    "    if not PROD_CODE in productBoughtCount:\n",
    "        productBoughtCount[PROD_CODE]=[0]\n",
    "\n",
    "    productBoughtCount[PROD_CODE][0]+=QUANTITY"
   ]
  },
  {
   "cell_type": "code",
   "execution_count": 80,
   "metadata": {},
   "outputs": [
    {
     "data": {
      "text/html": [
       "<div>\n",
       "<style scoped>\n",
       "    .dataframe tbody tr th:only-of-type {\n",
       "        vertical-align: middle;\n",
       "    }\n",
       "\n",
       "    .dataframe tbody tr th {\n",
       "        vertical-align: top;\n",
       "    }\n",
       "\n",
       "    .dataframe thead th {\n",
       "        text-align: right;\n",
       "    }\n",
       "</style>\n",
       "<table border=\"1\" class=\"dataframe\">\n",
       "  <thead>\n",
       "    <tr style=\"text-align: right;\">\n",
       "      <th></th>\n",
       "      <th>frequency</th>\n",
       "    </tr>\n",
       "  </thead>\n",
       "  <tbody>\n",
       "    <tr>\n",
       "      <th>PRD0901391</th>\n",
       "      <td>242</td>\n",
       "    </tr>\n",
       "    <tr>\n",
       "      <th>PRD0901915</th>\n",
       "      <td>1422</td>\n",
       "    </tr>\n",
       "    <tr>\n",
       "      <th>PRD0903379</th>\n",
       "      <td>41</td>\n",
       "    </tr>\n",
       "    <tr>\n",
       "      <th>PRD0903305</th>\n",
       "      <td>15</td>\n",
       "    </tr>\n",
       "    <tr>\n",
       "      <th>PRD0903387</th>\n",
       "      <td>51</td>\n",
       "    </tr>\n",
       "  </tbody>\n",
       "</table>\n",
       "</div>"
      ],
      "text/plain": [
       "            frequency\n",
       "PRD0901391        242\n",
       "PRD0901915       1422\n",
       "PRD0903379         41\n",
       "PRD0903305         15\n",
       "PRD0903387         51"
      ]
     },
     "execution_count": 80,
     "metadata": {},
     "output_type": "execute_result"
    }
   ],
   "source": [
    "product_dataframe=pd.DataFrame.from_dict(productBoughtCount, orient='index',columns=['frequency'])\n",
    "product_dataframe.head()"
   ]
  },
  {
   "cell_type": "code",
   "execution_count": 81,
   "metadata": {},
   "outputs": [
    {
     "data": {
      "text/plain": [
       "frequency    4978\n",
       "dtype: int64"
      ]
     },
     "execution_count": 81,
     "metadata": {},
     "output_type": "execute_result"
    }
   ],
   "source": [
    "product_dataframe.count()"
   ]
  },
  {
   "cell_type": "code",
   "execution_count": 82,
   "metadata": {},
   "outputs": [
    {
     "data": {
      "text/html": [
       "<div>\n",
       "<style scoped>\n",
       "    .dataframe tbody tr th:only-of-type {\n",
       "        vertical-align: middle;\n",
       "    }\n",
       "\n",
       "    .dataframe tbody tr th {\n",
       "        vertical-align: top;\n",
       "    }\n",
       "\n",
       "    .dataframe thead th {\n",
       "        text-align: right;\n",
       "    }\n",
       "</style>\n",
       "<table border=\"1\" class=\"dataframe\">\n",
       "  <thead>\n",
       "    <tr style=\"text-align: right;\">\n",
       "      <th></th>\n",
       "      <th>frequency</th>\n",
       "    </tr>\n",
       "  </thead>\n",
       "  <tbody>\n",
       "    <tr>\n",
       "      <th>PRD0901391</th>\n",
       "      <td>242</td>\n",
       "    </tr>\n",
       "    <tr>\n",
       "      <th>PRD0901915</th>\n",
       "      <td>1422</td>\n",
       "    </tr>\n",
       "    <tr>\n",
       "      <th>PRD0903764</th>\n",
       "      <td>1618</td>\n",
       "    </tr>\n",
       "    <tr>\n",
       "      <th>PRD0903130</th>\n",
       "      <td>5667</td>\n",
       "    </tr>\n",
       "    <tr>\n",
       "      <th>PRD0900183</th>\n",
       "      <td>688</td>\n",
       "    </tr>\n",
       "  </tbody>\n",
       "</table>\n",
       "</div>"
      ],
      "text/plain": [
       "            frequency\n",
       "PRD0901391        242\n",
       "PRD0901915       1422\n",
       "PRD0903764       1618\n",
       "PRD0903130       5667\n",
       "PRD0900183        688"
      ]
     },
     "execution_count": 82,
     "metadata": {},
     "output_type": "execute_result"
    }
   ],
   "source": [
    "significant_product_dataframe=product_dataframe[product_dataframe['frequency']>=int(product_dataframe.mean())]\n",
    "significant_product_dataframe.head()"
   ]
  },
  {
   "cell_type": "code",
   "execution_count": 83,
   "metadata": {},
   "outputs": [
    {
     "data": {
      "text/plain": [
       "frequency    1092\n",
       "dtype: int64"
      ]
     },
     "execution_count": 83,
     "metadata": {},
     "output_type": "execute_result"
    }
   ],
   "source": [
    "significant_product_dataframe.count()"
   ]
  },
  {
   "cell_type": "code",
   "execution_count": 84,
   "metadata": {},
   "outputs": [
    {
     "data": {
      "text/plain": [
       "1088"
      ]
     },
     "execution_count": 84,
     "metadata": {},
     "output_type": "execute_result"
    }
   ],
   "source": [
    "significantProductBoughtCount={}\n",
    "\n",
    "for product_id,freq in productBoughtCount.items():\n",
    "\n",
    "    if (freq[0]>int(product_dataframe.mean())):\n",
    "        significantProductBoughtCount[product_id]=[freq]\n",
    "        \n",
    "len(significantProductBoughtCount)"
   ]
  },
  {
   "cell_type": "code",
   "execution_count": 85,
   "metadata": {},
   "outputs": [],
   "source": [
    "productid_to_index={product_id:index for index,product_id in enumerate(significantProductBoughtCount)}\n",
    "index_to_productid={index:product_id for index,product_id in enumerate(significantProductBoughtCount)}"
   ]
  },
  {
   "cell_type": "code",
   "execution_count": 86,
   "metadata": {},
   "outputs": [],
   "source": [
    "basket_vectors={}\n",
    "\n",
    "for index,row in supermarket_file.iterrows():\n",
    "\n",
    "    BASKET_ID=str(row['BASKET_ID'])\n",
    "    PROD_CODE=row['PROD_CODE']\n",
    "    \n",
    "    QUANTITY=row['QUANTITY']\n",
    "    \n",
    "    if PROD_CODE in productid_to_index:\n",
    "        if not BASKET_ID in basket_vectors:\n",
    "            basket_vectors[BASKET_ID]={}\n",
    "            \n",
    "        product_index=productid_to_index[PROD_CODE]\n",
    "            \n",
    "        basket_vectors[BASKET_ID][product_index]=math.log(QUANTITY+1)"
   ]
  },
  {
   "cell_type": "code",
   "execution_count": 87,
   "metadata": {},
   "outputs": [],
   "source": [
    "basket_vector_size={}\n",
    "\n",
    "for basket_id,vector in basket_vectors.items():\n",
    "    vector_size=0\n",
    "    for product_id,weight in vector.items():\n",
    "        vector_size+=weight**2\n",
    "    basket_vector_size[basket_id]=math.sqrt(vector_size)"
   ]
  },
  {
   "cell_type": "code",
   "execution_count": 88,
   "metadata": {},
   "outputs": [],
   "source": [
    "basket_keys =  list(basket_vectors.keys()) \n",
    "rd.shuffle(basket_keys)\n",
    "\n",
    "basket_vectors_train={}\n",
    "basket_vectors_test={}\n",
    "\n",
    "train_test_split_ratio=0.1\n",
    "\n",
    "for index in range(len(basket_keys)):\n",
    "    basket_id=basket_keys[index]\n",
    "    if index<train_test_split_ratio*len(basket_keys):\n",
    "        basket_vectors_test[basket_id]=basket_vectors[basket_id]\n",
    "    else:\n",
    "        basket_vectors_train[basket_id]=basket_vectors[basket_id]"
   ]
  },
  {
   "cell_type": "code",
   "execution_count": 118,
   "metadata": {},
   "outputs": [],
   "source": [
    "def recommendProductByUserAlgo(product_list):\n",
    "    \n",
    "    my_vector={}\n",
    "    my_vector_size=0\n",
    "    \n",
    "    for product,quantity in product_list.items():\n",
    "        if product in productid_to_index:\n",
    "            product_index=productid_to_index[product]\n",
    "            \n",
    "            my_vector[product_index]=math.log(quantity+1)\n",
    "            \n",
    "            my_vector_size+=my_vector[product_index]**2\n",
    "            \n",
    "    my_vector_size=math.sqrt(my_vector_size)\n",
    "            \n",
    "    vector_score={}\n",
    "            \n",
    "    for basket_id,vector in basket_vectors_train.items():\n",
    "        vector_score[basket_id]=0\n",
    "        \n",
    "        intersect_weight=list(set(vector)&set(my_vector))\n",
    "        \n",
    "        for weight in intersect_weight:\n",
    "            vector_score[basket_id]+=(my_vector[weight]*vector[weight])\n",
    "             \n",
    "        vector_score[basket_id]/=(my_vector_size*basket_vector_size[basket_id])\n",
    "\n",
    "    sorted_vector_score=sorted(vector_score.items(), key=lambda item: item[1],reverse=True)\n",
    "\n",
    "    recommend_vector_id=sorted_vector_score[0][0]\n",
    "    \n",
    "    recommend_vector=basket_vectors_train[recommend_vector_id]\n",
    "    \n",
    "    recommend_product_id_list=set(basket_vectors_train[recommend_vector_id].keys())-set(my_vector)\n",
    "    recommend_product_list=[]\n",
    "    \n",
    "    for product_id in recommend_product_id_list:\n",
    "        recommend_product_list.append(index_to_productid[product_id])\n",
    "            \n",
    "    return recommend_product_list"
   ]
  },
  {
   "cell_type": "code",
   "execution_count": 115,
   "metadata": {},
   "outputs": [
    {
     "name": "stdout",
     "output_type": "stream",
     "text": [
      "set()\n"
     ]
    },
    {
     "data": {
      "text/plain": [
       "[]"
      ]
     },
     "execution_count": 115,
     "metadata": {},
     "output_type": "execute_result"
    }
   ],
   "source": [
    "recommendProductByUserAlgo({    \n",
    "\"PRD0901915\":12,\n",
    "\"PRD0900183\":6\n",
    "})"
   ]
  },
  {
   "cell_type": "code",
   "execution_count": 119,
   "metadata": {},
   "outputs": [],
   "source": [
    "def convertVectorToBasket(vector):\n",
    "    new_vector={}\n",
    "    for product_index,log_freq in vector.items():\n",
    "        product_id=index_to_productid[product_index]\n",
    "        freq=math.exp(log_freq)-1\n",
    "        new_vector[product_id]=freq\n",
    "    return new_vector"
   ]
  },
  {
   "cell_type": "code",
   "execution_count": 123,
   "metadata": {},
   "outputs": [
    {
     "name": "stdout",
     "output_type": "stream",
     "text": [
      "Start evaluating\n",
      "Time usage : 1183.55 seconds\n"
     ]
    }
   ],
   "source": [
    "acc_list=[]\n",
    "\n",
    "count=0\n",
    "\n",
    "start_time = time.time()\n",
    "print(\"Start evaluating\")\n",
    "\n",
    "for basket_id,vector in basket_vectors_test.items():\n",
    "    \n",
    "    basket_keys =  list(vector.keys()) \n",
    "    rd.shuffle(basket_keys)\n",
    "    \n",
    "    pop_index=basket_keys[0]\n",
    "    product_pop=index_to_productid[pop_index]\n",
    "    \n",
    "    preprocess_vector={}\n",
    "    \n",
    "    for index in range(1,len(basket_keys)):\n",
    "        preprocess_vector[basket_keys[index]]=vector[basket_keys[index]]\n",
    "    \n",
    "\n",
    "    if (len(preprocess_vector)>0):\n",
    "        recommend_product_list=recommendProductByUserAlgo(convertVectorToBasket(preprocess_vector))\n",
    "\n",
    "        if product_pop in recommend_product_list:\n",
    "            acc_list.append(1)\n",
    "        else:\n",
    "            acc_list.append(0)\n",
    "            \n",
    "    count+=1\n",
    "    \n",
    "elapsed_time = time.time() - start_time\n",
    "\n",
    "print(\"Time usage : \"+str(round(elapsed_time,2))+\" seconds\")"
   ]
  },
  {
   "cell_type": "code",
   "execution_count": 124,
   "metadata": {},
   "outputs": [
    {
     "name": "stdout",
     "output_type": "stream",
     "text": [
      "Accuracy = 0.15641103364655956\n"
     ]
    }
   ],
   "source": [
    "acc=np.mean(acc_list)\n",
    "print(\"Accuracy = \"+str(acc))"
   ]
  },
  {
   "cell_type": "code",
   "execution_count": 125,
   "metadata": {},
   "outputs": [],
   "source": [
    "#Next, we will show how to implement item-based collaborative filtering recommender system\n",
    "\n",
    "userBuyingCount={}\n",
    "\n",
    "for index,row in supermarket_file.iterrows():\n",
    "    CUST_CODE=(row['CUST_CODE'])\n",
    "    QUANTITY=int(row['QUANTITY'])\n",
    "    \n",
    "    if not CUST_CODE in userBuyingCount:\n",
    "        userBuyingCount[CUST_CODE]=[0]\n",
    "\n",
    "    userBuyingCount[CUST_CODE][0]+=QUANTITY"
   ]
  },
  {
   "cell_type": "code",
   "execution_count": 126,
   "metadata": {},
   "outputs": [
    {
     "data": {
      "text/html": [
       "<div>\n",
       "<style scoped>\n",
       "    .dataframe tbody tr th:only-of-type {\n",
       "        vertical-align: middle;\n",
       "    }\n",
       "\n",
       "    .dataframe tbody tr th {\n",
       "        vertical-align: top;\n",
       "    }\n",
       "\n",
       "    .dataframe thead th {\n",
       "        text-align: right;\n",
       "    }\n",
       "</style>\n",
       "<table border=\"1\" class=\"dataframe\">\n",
       "  <thead>\n",
       "    <tr style=\"text-align: right;\">\n",
       "      <th></th>\n",
       "      <th># of products bought</th>\n",
       "    </tr>\n",
       "  </thead>\n",
       "  <tbody>\n",
       "    <tr>\n",
       "      <th>CUST0000153531</th>\n",
       "      <td>1</td>\n",
       "    </tr>\n",
       "    <tr>\n",
       "      <th>CUST0000219191</th>\n",
       "      <td>2610</td>\n",
       "    </tr>\n",
       "    <tr>\n",
       "      <th>CUST0000526979</th>\n",
       "      <td>2548</td>\n",
       "    </tr>\n",
       "    <tr>\n",
       "      <th>CUST0000913709</th>\n",
       "      <td>619</td>\n",
       "    </tr>\n",
       "    <tr>\n",
       "      <th>CUST0000961285</th>\n",
       "      <td>177</td>\n",
       "    </tr>\n",
       "  </tbody>\n",
       "</table>\n",
       "</div>"
      ],
      "text/plain": [
       "                # of products bought\n",
       "CUST0000153531                     1\n",
       "CUST0000219191                  2610\n",
       "CUST0000526979                  2548\n",
       "CUST0000913709                   619\n",
       "CUST0000961285                   177"
      ]
     },
     "execution_count": 126,
     "metadata": {},
     "output_type": "execute_result"
    }
   ],
   "source": [
    "user_dataframe=pd.DataFrame.from_dict(userBuyingCount, orient='index',columns=['# of products bought'])\n",
    "user_dataframe.head()"
   ]
  },
  {
   "cell_type": "code",
   "execution_count": 127,
   "metadata": {},
   "outputs": [
    {
     "data": {
      "text/plain": [
       "# of products bought    4891\n",
       "dtype: int64"
      ]
     },
     "execution_count": 127,
     "metadata": {},
     "output_type": "execute_result"
    }
   ],
   "source": [
    "user_dataframe.count()"
   ]
  },
  {
   "cell_type": "code",
   "execution_count": 128,
   "metadata": {},
   "outputs": [
    {
     "data": {
      "text/html": [
       "<div>\n",
       "<style scoped>\n",
       "    .dataframe tbody tr th:only-of-type {\n",
       "        vertical-align: middle;\n",
       "    }\n",
       "\n",
       "    .dataframe tbody tr th {\n",
       "        vertical-align: top;\n",
       "    }\n",
       "\n",
       "    .dataframe thead th {\n",
       "        text-align: right;\n",
       "    }\n",
       "</style>\n",
       "<table border=\"1\" class=\"dataframe\">\n",
       "  <thead>\n",
       "    <tr style=\"text-align: right;\">\n",
       "      <th></th>\n",
       "      <th># of products bought</th>\n",
       "    </tr>\n",
       "  </thead>\n",
       "  <tbody>\n",
       "    <tr>\n",
       "      <th>CUST0000219191</th>\n",
       "      <td>2610</td>\n",
       "    </tr>\n",
       "    <tr>\n",
       "      <th>CUST0000526979</th>\n",
       "      <td>2548</td>\n",
       "    </tr>\n",
       "    <tr>\n",
       "      <th>CUST0000913709</th>\n",
       "      <td>619</td>\n",
       "    </tr>\n",
       "    <tr>\n",
       "      <th>CUST0000988001</th>\n",
       "      <td>920</td>\n",
       "    </tr>\n",
       "    <tr>\n",
       "      <th>CUST0000099658</th>\n",
       "      <td>2745</td>\n",
       "    </tr>\n",
       "  </tbody>\n",
       "</table>\n",
       "</div>"
      ],
      "text/plain": [
       "                # of products bought\n",
       "CUST0000219191                  2610\n",
       "CUST0000526979                  2548\n",
       "CUST0000913709                   619\n",
       "CUST0000988001                   920\n",
       "CUST0000099658                  2745"
      ]
     },
     "execution_count": 128,
     "metadata": {},
     "output_type": "execute_result"
    }
   ],
   "source": [
    "significant_user_dataframe=user_dataframe[user_dataframe['# of products bought']>=int(user_dataframe.mean())]\n",
    "significant_user_dataframe.head()"
   ]
  },
  {
   "cell_type": "code",
   "execution_count": 129,
   "metadata": {},
   "outputs": [
    {
     "data": {
      "text/plain": [
       "# of products bought    992\n",
       "dtype: int64"
      ]
     },
     "execution_count": 129,
     "metadata": {},
     "output_type": "execute_result"
    }
   ],
   "source": [
    "significant_user_dataframe.count()"
   ]
  },
  {
   "cell_type": "code",
   "execution_count": 130,
   "metadata": {},
   "outputs": [
    {
     "data": {
      "text/plain": [
       "990"
      ]
     },
     "execution_count": 130,
     "metadata": {},
     "output_type": "execute_result"
    }
   ],
   "source": [
    "significantUserBuyingCount={}\n",
    "\n",
    "for customer_id,freq in userBuyingCount.items():\n",
    "\n",
    "    if (freq[0]>int(user_dataframe.mean())):\n",
    "        significantUserBuyingCount[customer_id]=[freq]\n",
    "        \n",
    "len(significantUserBuyingCount)"
   ]
  },
  {
   "cell_type": "code",
   "execution_count": 131,
   "metadata": {},
   "outputs": [],
   "source": [
    "customerid_to_index={customer_id:index for index,customer_id in enumerate(significantUserBuyingCount)}\n",
    "index_to_customerid={index:customer_id for index,customer_id in enumerate(significantUserBuyingCount)}"
   ]
  },
  {
   "cell_type": "code",
   "execution_count": 132,
   "metadata": {},
   "outputs": [],
   "source": [
    "product_vectors={}\n",
    "\n",
    "for index,row in supermarket_file.iterrows():\n",
    "\n",
    "    CUST_CODE=str(row['CUST_CODE'])\n",
    "    PROD_CODE=row['PROD_CODE']\n",
    "    \n",
    "    QUANTITY=row['QUANTITY']\n",
    "    \n",
    "    if CUST_CODE in customerid_to_index:\n",
    "        if not PROD_CODE in product_vectors:\n",
    "            product_vectors[PROD_CODE]={}\n",
    "            \n",
    "        customer_index=customerid_to_index[CUST_CODE]\n",
    "            \n",
    "        product_vectors[PROD_CODE][customer_index]=math.log(QUANTITY+1)"
   ]
  },
  {
   "cell_type": "code",
   "execution_count": 133,
   "metadata": {},
   "outputs": [],
   "source": [
    "product_vector_size={}\n",
    "\n",
    "for product_id,vector in product_vectors.items():\n",
    "    vector_size=0\n",
    "    for customer_id,weight in vector.items():\n",
    "        vector_size+=weight**2\n",
    "    product_vector_size[product_id]=math.sqrt(vector_size)"
   ]
  },
  {
   "cell_type": "code",
   "execution_count": 151,
   "metadata": {},
   "outputs": [
    {
     "name": "stdout",
     "output_type": "stream",
     "text": [
      "Start evaluating\n",
      "Time usage : 150.35 seconds\n"
     ]
    }
   ],
   "source": [
    "start_time = time.time()\n",
    "print(\"Start evaluating\")\n",
    "\n",
    "product_most_recommend={}\n",
    "\n",
    "for product_id_pivot in product_vectors.keys():\n",
    "    \n",
    "    vector_score={}\n",
    "    vector_pivot=product_vectors[product_id_pivot]\n",
    "    \n",
    "    for product_id in product_vectors.keys():\n",
    "        \n",
    "        vector=product_vectors[product_id]\n",
    "        vector_score[product_id]=0\n",
    "    \n",
    "        if product_id!=product_id_pivot:\n",
    "            \n",
    "            intersect_weight=list(set(vector_pivot)&set(vector))\n",
    "            for weight in intersect_weight:\n",
    "                vector_score[product_id]+=(vector_pivot[weight]*vector[weight])\n",
    "\n",
    "            vector_score[product_id]/=(product_vector_size[product_id_pivot]*product_vector_size[product_id])\n",
    "       \n",
    "    sorted_vector_score=sorted(vector_score.items(), key=lambda item: item[1],reverse=True)\n",
    "\n",
    "    product_most_recommend[product_id_pivot]=sorted_vector_score[0][0]\n",
    "    \n",
    "elapsed_time = time.time() - start_time\n",
    "\n",
    "print(\"Time usage : \"+str(round(elapsed_time,2))+\" seconds\")"
   ]
  },
  {
   "cell_type": "code",
   "execution_count": 153,
   "metadata": {},
   "outputs": [],
   "source": [
    "def recommendProductByItemAlgo(product_list):\n",
    "    \n",
    "    recommend_product_list=[]\n",
    "    \n",
    "    for product_id in product_list.keys():\n",
    "        recommend_product_list.append(product_most_recommend[product_id])\n",
    "            \n",
    "    return recommend_product_list"
   ]
  },
  {
   "cell_type": "code",
   "execution_count": 154,
   "metadata": {},
   "outputs": [
    {
     "data": {
      "text/plain": [
       "['PRD0902364', 'PRD0900209']"
      ]
     },
     "execution_count": 154,
     "metadata": {},
     "output_type": "execute_result"
    }
   ],
   "source": [
    "recommendProductByItemAlgo({    \n",
    "\"PRD0901915\":12,\n",
    "\"PRD0900183\":6\n",
    "})"
   ]
  },
  {
   "cell_type": "code",
   "execution_count": 162,
   "metadata": {},
   "outputs": [
    {
     "name": "stdout",
     "output_type": "stream",
     "text": [
      "Start evaluating\n",
      "Time usage : 0.1 seconds\n"
     ]
    }
   ],
   "source": [
    "acc_list=[]\n",
    "\n",
    "count=0\n",
    "\n",
    "start_time = time.time()\n",
    "print(\"Start evaluating\")\n",
    "\n",
    "for basket_id,vector in basket_vectors_test.items():\n",
    "    \n",
    "    basket_keys =  list(vector.keys()) \n",
    "    rd.shuffle(basket_keys)\n",
    "    \n",
    "    pop_index=basket_keys[0]\n",
    "    product_pop=index_to_productid[pop_index]\n",
    "    \n",
    "    preprocess_vector={}\n",
    "    \n",
    "    for index in range(1,len(basket_keys)):\n",
    "        preprocess_vector[basket_keys[index]]=vector[basket_keys[index]]\n",
    "    \n",
    "\n",
    "    if (len(preprocess_vector)>0):\n",
    "        recommend_product_list=recommendProductByItemAlgo(convertVectorToBasket(preprocess_vector))\n",
    "\n",
    "        if product_pop in recommend_product_list:\n",
    "            acc_list.append(1)\n",
    "        else:\n",
    "            acc_list.append(0)\n",
    "            \n",
    "    count+=1\n",
    "    \n",
    "elapsed_time = time.time() - start_time\n",
    "\n",
    "print(\"Time usage : \"+str(round(elapsed_time,2))+\" seconds\")"
   ]
  },
  {
   "cell_type": "code",
   "execution_count": 163,
   "metadata": {},
   "outputs": [
    {
     "name": "stdout",
     "output_type": "stream",
     "text": [
      "Accuracy = 0.05956350409214914\n"
     ]
    }
   ],
   "source": [
    "acc=np.mean(acc_list)\n",
    "print(\"Accuracy = \"+str(acc))"
   ]
  },
  {
   "cell_type": "code",
   "execution_count": null,
   "metadata": {},
   "outputs": [],
   "source": []
  }
 ],
 "metadata": {
  "kernelspec": {
   "display_name": "Python 3",
   "language": "python",
   "name": "python3"
  },
  "language_info": {
   "codemirror_mode": {
    "name": "ipython",
    "version": 3
   },
   "file_extension": ".py",
   "mimetype": "text/x-python",
   "name": "python",
   "nbconvert_exporter": "python",
   "pygments_lexer": "ipython3",
   "version": "3.7.1"
  }
 },
 "nbformat": 4,
 "nbformat_minor": 2
}
